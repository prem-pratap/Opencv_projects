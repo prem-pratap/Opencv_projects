{
 "cells": [
  {
   "cell_type": "code",
   "execution_count": null,
   "metadata": {},
   "outputs": [],
   "source": [
    "import cv2\n",
    "import numpy\n",
    "pic1=cv2.imread(\"r1.jpg\")\n",
    "pic2=cv2.imread(\"r2.jpg\")\n",
    "diff=cv2.subtract(pic1,pic2)\n",
    "cv2.imwrite('result.jpg',diff)\n",
    "mask = cv2.imread('result.jpg',0)\n",
    "'''\n",
    "inpaint(src,binary mask indicating area to inpainted,inpaint radius(Neighborhood around a pixel to inpaint. \n",
    "Typically, if the regions to be inpainted are thin, smaller values produce better results (less blurry),flags(INPAINT_NS/INPAINT_TELEA)))\n",
    "'''\n",
    "#cv2.imshow(\"result\",mask)\n",
    "cv2.waitKey()\n",
    "dst = cv2.inpaint(pic1,mask,0.5,cv2.INPAINT_TELEA)\n",
    "cv2.imwrite('dst.jpg',dst)\n",
    "re=cv2.imread(\"dst.jpg\")\n",
    "cv2.imshow(\"dst\",re)\n",
    "cv2.waitKey()\n",
    "new_img=cv2.addWeighted(pic1,0.5,re,0.5,0)\n",
    "cv2.imshow('new image',new_img)\n",
    "cv2.waitKey(0)\n",
    "cv2.destroyAllWindows()\n",
    "cv2.waitKey()"
   ]
  },
  {
   "cell_type": "code",
   "execution_count": 8,
   "metadata": {},
   "outputs": [],
   "source": [
    "import cv2\n",
    "cap=cv2.VideoCapture(0)\n",
    "#saving two images one with obstacle and another without obstacle\n",
    "while cap.isOpened():\n",
    "    status,f1=cap.read()\n",
    "    cv2.imshow(\"Without Obstacle\",f1)\n",
    "    cv2.imwrite(\"obj1.jpg\",f1)\n",
    "    if cv2.waitKey(25) & 0xFF == ord('q'):\n",
    "        break\n",
    "while cap.isOpened():\n",
    "    status,f2=cap.read()\n",
    "    cv2.imshow(\"With Obstacle\",f2)\n",
    "    cv2.imwrite(\"obj2.jpg\",f2)\n",
    "    if cv2.waitKey(25) & 0xFF == ord('q'):\n",
    "        break\n",
    "#reading two images that were saved\n",
    "pic1=cv2.imread(\"obj1.jpg\")\n",
    "pic2=cv2.imread(\"obj2.jpg\")\n",
    "#give the different region from both the images\n",
    "diff=cv2.subtract(pic1,pic2)\n",
    "#saving the different image \n",
    "cv2.imwrite('result.jpg',diff)\n",
    "mask = cv2.imread('result.jpg',0)\n",
    "#filling regions inside image\n",
    "dst = cv2.inpaint(pic1,mask,0.4,cv2.INPAINT_TELEA)\n",
    "cv2.imwrite('painted.jpg',dst)\n",
    "img=cv2.imread(\"painted.jpg\")\n",
    "#add painted image and image without obstacle along with weights\n",
    "new_img=cv2.addWeighted(pic1,0.6,img,0.4,0)\n",
    "cv2.imshow('new image',new_img)\n",
    "cv2.waitKey(0)\n",
    "cv2.destroyAllWindows()\n",
    "cv2.waitKey()\n",
    "cap.release()"
   ]
  },
  {
   "cell_type": "code",
   "execution_count": null,
   "metadata": {},
   "outputs": [],
   "source": []
  },
  {
   "cell_type": "code",
   "execution_count": null,
   "metadata": {},
   "outputs": [],
   "source": []
  }
 ],
 "metadata": {
  "kernelspec": {
   "display_name": "Python 3",
   "language": "python",
   "name": "python3"
  },
  "language_info": {
   "codemirror_mode": {
    "name": "ipython",
    "version": 3
   },
   "file_extension": ".py",
   "mimetype": "text/x-python",
   "name": "python",
   "nbconvert_exporter": "python",
   "pygments_lexer": "ipython3",
   "version": "3.6.7"
  }
 },
 "nbformat": 4,
 "nbformat_minor": 2
}
